{
  "nbformat": 4,
  "nbformat_minor": 0,
  "metadata": {
    "colab": {
      "name": "Tuples.ipynb",
      "provenance": [],
      "authorship_tag": "ABX9TyMjowSERTWwcCQjgtJfnelf",
      "include_colab_link": true
    },
    "kernelspec": {
      "name": "python3",
      "display_name": "Python 3"
    }
  },
  "cells": [
    {
      "cell_type": "markdown",
      "metadata": {
        "id": "view-in-github",
        "colab_type": "text"
      },
      "source": [
        "<a href=\"https://colab.research.google.com/github/Rajesh2000/PythonBasics/blob/main/Tuples.ipynb\" target=\"_parent\"><img src=\"https://colab.research.google.com/assets/colab-badge.svg\" alt=\"Open In Colab\"/></a>"
      ]
    },
    {
      "cell_type": "markdown",
      "metadata": {
        "id": "P0V2e4SyAPKi"
      },
      "source": [
        "#Tuples are not mutable"
      ]
    },
    {
      "cell_type": "code",
      "metadata": {
        "id": "Drv1IuQbAHy_",
        "outputId": "1904f0e1-9804-4dbc-e267-220ed2371356",
        "colab": {
          "base_uri": "https://localhost:8080/",
          "height": 68
        }
      },
      "source": [
        "tuple1=(1,2,3)\n",
        "print(tuple1)\n",
        "\n",
        "tuple1 = tuple1 + (4,5,6)\n",
        "print(tuple1)\n",
        "# tuple[1] = 5 #Not allowed\n",
        "type(tuple1)"
      ],
      "execution_count": 6,
      "outputs": [
        {
          "output_type": "stream",
          "text": [
            "(1, 2, 3)\n",
            "(1, 2, 3, 4, 5, 6)\n"
          ],
          "name": "stdout"
        },
        {
          "output_type": "execute_result",
          "data": {
            "text/plain": [
              "tuple"
            ]
          },
          "metadata": {
            "tags": []
          },
          "execution_count": 6
        }
      ]
    },
    {
      "cell_type": "code",
      "metadata": {
        "id": "b5_jyemKAeTl"
      },
      "source": [
        ""
      ],
      "execution_count": null,
      "outputs": []
    }
  ]
}