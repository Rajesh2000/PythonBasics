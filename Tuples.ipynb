{
  "nbformat": 4,
  "nbformat_minor": 0,
  "metadata": {
    "colab": {
      "name": "Tuples.ipynb",
      "provenance": [],
      "authorship_tag": "ABX9TyM7BZdgcxkq7hW0JomwxrF8",
      "include_colab_link": true
    },
    "kernelspec": {
      "name": "python3",
      "display_name": "Python 3"
    }
  },
  "cells": [
    {
      "cell_type": "markdown",
      "metadata": {
        "id": "view-in-github",
        "colab_type": "text"
      },
      "source": [
        "<a href=\"https://colab.research.google.com/github/Rajesh2000/PythonBasics/blob/main/Tuples.ipynb\" target=\"_parent\"><img src=\"https://colab.research.google.com/assets/colab-badge.svg\" alt=\"Open In Colab\"/></a>"
      ]
    },
    {
      "cell_type": "markdown",
      "metadata": {
        "id": "P0V2e4SyAPKi"
      },
      "source": [
        "#Tuples are not mutable"
      ]
    },
    {
      "cell_type": "code",
      "metadata": {
        "id": "Drv1IuQbAHy_",
        "outputId": "5c87011a-85fe-4f46-fc06-f8cf6a09684b",
        "colab": {
          "base_uri": "https://localhost:8080/",
          "height": 85
        }
      },
      "source": [
        "tuple1=(1,2,3)\n",
        "print(tuple1)\n",
        "\n",
        "tuple1 = tuple1 + (4,5,6)\n",
        "print(tuple1)\n",
        "# tuple[1] = 5 #Not allowed\n",
        "type(tuple1)\n",
        "#tuples are immutable, so you can not remove elements\n",
        "#using merge of tuples with the + operator you can remove an item and it will create a new tuple\n",
        "\n",
        "tuple1 = tuple1[:1] + tuple1[2:] #Removed 2\n",
        "print(tuple1)\n",
        "\n",
        "#Can be converted to list to remove items\n",
        "list1 = list(tuple1) \n",
        "print(list1)"
      ],
      "execution_count": 9,
      "outputs": [
        {
          "output_type": "stream",
          "text": [
            "(1, 2, 3)\n",
            "(1, 2, 3, 4, 5, 6)\n",
            "(1, 3, 4, 5, 6)\n",
            "[1, 3, 4, 5, 6]\n"
          ],
          "name": "stdout"
        }
      ]
    },
    {
      "cell_type": "code",
      "metadata": {
        "id": "b5_jyemKAeTl"
      },
      "source": [
        ""
      ],
      "execution_count": null,
      "outputs": []
    }
  ]
}