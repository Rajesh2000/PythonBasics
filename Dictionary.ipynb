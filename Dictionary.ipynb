{
  "nbformat": 4,
  "nbformat_minor": 0,
  "metadata": {
    "colab": {
      "name": "Dictionary.ipynb",
      "provenance": [],
      "authorship_tag": "ABX9TyPpu64ITYh0uOZFhOouq/nS",
      "include_colab_link": true
    },
    "kernelspec": {
      "name": "python3",
      "display_name": "Python 3"
    }
  },
  "cells": [
    {
      "cell_type": "markdown",
      "metadata": {
        "id": "view-in-github",
        "colab_type": "text"
      },
      "source": [
        "<a href=\"https://colab.research.google.com/github/Rajesh2000/PythonBasics/blob/main/Dictionary.ipynb\" target=\"_parent\"><img src=\"https://colab.research.google.com/assets/colab-badge.svg\" alt=\"Open In Colab\"/></a>"
      ]
    },
    {
      "cell_type": "markdown",
      "metadata": {
        "id": "1iV-gw2AD3yh"
      },
      "source": [
        "#Ditionaries are mutable , holds key,value pairs"
      ]
    },
    {
      "cell_type": "code",
      "metadata": {
        "id": "qY3MNw95D08E",
        "outputId": "f5922ef7-d369-4df8-f7c2-e9bfa67302df",
        "colab": {
          "base_uri": "https://localhost:8080/",
          "height": 102
        }
      },
      "source": [
        "dict1 = {\n",
        "    1 : 'Java' ,\n",
        "    2 : 'Python',\n",
        "    3 : 'C'\n",
        "}\n",
        "print(dict1)\n",
        "dict1[4] = 'C++'\n",
        "print(dict1)\n",
        "\n",
        "\n",
        "#\n",
        "print(dict1.items())\n",
        "print(dict1.keys())\n",
        "print(dict1.values())"
      ],
      "execution_count": 16,
      "outputs": [
        {
          "output_type": "stream",
          "text": [
            "{1: 'Java', 2: 'Python', 3: 'C'}\n",
            "{1: 'Java', 2: 'Python', 3: 'C', 4: 'C++'}\n",
            "dict_items([(1, 'Java'), (2, 'Python'), (3, 'C'), (4, 'C++')])\n",
            "dict_keys([1, 2, 3, 4])\n",
            "dict_values(['Java', 'Python', 'C', 'C++'])\n"
          ],
          "name": "stdout"
        }
      ]
    },
    {
      "cell_type": "code",
      "metadata": {
        "id": "KK10Z5xuEbG-",
        "outputId": "6d2f5868-b74a-4258-ab78-146e4a029e81",
        "colab": {
          "base_uri": "https://localhost:8080/",
          "height": 85
        }
      },
      "source": [
        "del dict1[1]  #1 is key\n",
        "print(dict1)\n",
        "\n",
        "print(dict1.pop(4))\n",
        "print(dict1)\n",
        "\n",
        "print(dict1.popitem())"
      ],
      "execution_count": 17,
      "outputs": [
        {
          "output_type": "stream",
          "text": [
            "{2: 'Python', 3: 'C', 4: 'C++'}\n",
            "C++\n",
            "{2: 'Python', 3: 'C'}\n",
            "(3, 'C')\n"
          ],
          "name": "stdout"
        }
      ]
    },
    {
      "cell_type": "code",
      "metadata": {
        "id": "csOwwBz5JBj2"
      },
      "source": [
        "#Copy dictionary\n",
        "dict2=dict1.copy()"
      ],
      "execution_count": 18,
      "outputs": []
    },
    {
      "cell_type": "code",
      "metadata": {
        "id": "qIRp-5faKbHx",
        "outputId": "833ee1e8-8914-4ea6-c232-69559c20d9b0",
        "colab": {
          "base_uri": "https://localhost:8080/",
          "height": 34
        }
      },
      "source": [
        "dict1.clear() #deletes the dict\n",
        "print(dict1)"
      ],
      "execution_count": 19,
      "outputs": [
        {
          "output_type": "stream",
          "text": [
            "{}\n"
          ],
          "name": "stdout"
        }
      ]
    },
    {
      "cell_type": "code",
      "metadata": {
        "id": "lDWAWdrFKpIV"
      },
      "source": [
        ""
      ],
      "execution_count": null,
      "outputs": []
    }
  ]
}