{
  "nbformat": 4,
  "nbformat_minor": 0,
  "metadata": {
    "colab": {
      "name": "Lists.ipynb",
      "provenance": []
    },
    "kernelspec": {
      "name": "python3",
      "display_name": "Python 3"
    }
  },
  "cells": [
    {
      "cell_type": "markdown",
      "metadata": {
        "id": "yYdqprlx50HD"
      },
      "source": [
        "#Lists are mutable"
      ]
    },
    {
      "cell_type": "code",
      "metadata": {
        "id": "Mp9_f4My5qQC",
        "outputId": "a16b3c27-dc59-4c4f-fb85-dfee1b16226a",
        "colab": {
          "base_uri": "https://localhost:8080/",
          "height": 102
        }
      },
      "source": [
        "list1=[1,2,2,3,'Dan']\n",
        "\n",
        "#append() ,extend() and insert()\n",
        "\n",
        "list1.append((4,5))\n",
        "list1.extend((5,6))\n",
        "list1.insert(2,'Second')\n",
        "print(list1)\n",
        "\n",
        "# del,pop(),remove()\n",
        "del list1[3]\n",
        "print(list1)\n",
        "\n",
        "a=list1.pop(5)\n",
        "print(a)\n",
        "print(list1)\n",
        "\n",
        "list1.remove(2)\n",
        "print(list1)"
      ],
      "execution_count": 18,
      "outputs": [
        {
          "output_type": "stream",
          "text": [
            "[1, 2, 'Second', 2, 3, 'Dan', (4, 5), 5, 6]\n",
            "[1, 2, 'Second', 3, 'Dan', (4, 5), 5, 6]\n",
            "(4, 5)\n",
            "[1, 2, 'Second', 3, 'Dan', 5, 6]\n",
            "[1, 'Second', 3, 'Dan', 5, 6]\n"
          ],
          "name": "stdout"
        }
      ]
    },
    {
      "cell_type": "code",
      "metadata": {
        "id": "Eb11n6Z87wJh",
        "outputId": "10448bfb-89a1-4106-c654-16ddb0da3df1",
        "colab": {
          "base_uri": "https://localhost:8080/",
          "height": 85
        }
      },
      "source": [
        "print(list1)\n",
        "print(list1[0:2]) #2 not included\n",
        "print(list1[0:5:2]) # Skip every 2nd element \n",
        "print(list1[::-1]) # print reverse"
      ],
      "execution_count": 20,
      "outputs": [
        {
          "output_type": "stream",
          "text": [
            "[1, 'Second', 3, 'Dan', 5, 6]\n",
            "[1, 'Second']\n",
            "[1, 3, 5]\n",
            "[6, 5, 'Dan', 3, 'Second', 1]\n"
          ],
          "name": "stdout"
        }
      ]
    },
    {
      "cell_type": "markdown",
      "metadata": {
        "id": "COpPPTex-iZ1"
      },
      "source": [
        "#Ops"
      ]
    },
    {
      "cell_type": "code",
      "metadata": {
        "id": "UCOUnOAa8zcj",
        "outputId": "c52c4389-5a0a-418d-acbb-906460b4e592",
        "colab": {
          "base_uri": "https://localhost:8080/",
          "height": 68
        }
      },
      "source": [
        "list2=[1,2,3,635,12,546,0]\n",
        "print(sorted(list2))\n",
        "print(list2)  # original list wont be changed\n",
        "\n",
        "list2.sort(reverse=True) \n",
        "print(list2)   # original list will be changed"
      ],
      "execution_count": 24,
      "outputs": [
        {
          "output_type": "stream",
          "text": [
            "[0, 1, 2, 3, 12, 546, 635]\n",
            "[1, 2, 3, 635, 12, 546, 0]\n",
            "[635, 546, 12, 3, 2, 1, 0]\n"
          ],
          "name": "stdout"
        }
      ]
    },
    {
      "cell_type": "code",
      "metadata": {
        "id": "OL-FEISf-E5X",
        "outputId": "65d8c805-eb76-4985-bf7b-7217aed2e140",
        "colab": {
          "base_uri": "https://localhost:8080/",
          "height": 51
        }
      },
      "source": [
        "print(list2.index(546))\n",
        "print(list2.count(546))\n"
      ],
      "execution_count": 26,
      "outputs": [
        {
          "output_type": "stream",
          "text": [
            "1\n",
            "1\n"
          ],
          "name": "stdout"
        }
      ]
    },
    {
      "cell_type": "code",
      "metadata": {
        "id": "xV1czxtI-r0X"
      },
      "source": [
        ""
      ],
      "execution_count": null,
      "outputs": []
    }
  ]
}